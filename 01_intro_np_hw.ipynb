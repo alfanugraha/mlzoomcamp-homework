{
 "cells": [
  {
   "cell_type": "code",
   "execution_count": 1,
   "id": "29de57fe",
   "metadata": {},
   "outputs": [],
   "source": [
    "import pandas as pd\n",
    "import numpy as np"
   ]
  },
  {
   "cell_type": "markdown",
   "id": "52dc617a",
   "metadata": {},
   "source": [
    "## Q1. Pandas version"
   ]
  },
  {
   "cell_type": "code",
   "execution_count": 2,
   "id": "299030ab",
   "metadata": {},
   "outputs": [
    {
     "data": {
      "text/plain": [
       "'2.2.3'"
      ]
     },
     "execution_count": 2,
     "metadata": {},
     "output_type": "execute_result"
    }
   ],
   "source": [
    "pd.__version__"
   ]
  },
  {
   "cell_type": "code",
   "execution_count": 28,
   "id": "e6029f7b",
   "metadata": {},
   "outputs": [
    {
     "data": {
      "application/vnd.microsoft.datawrangler.viewer.v0+json": {
       "columns": [
        {
         "name": "index",
         "rawType": "int64",
         "type": "integer"
        },
        {
         "name": "engine_displacement",
         "rawType": "int64",
         "type": "integer"
        },
        {
         "name": "num_cylinders",
         "rawType": "float64",
         "type": "float"
        },
        {
         "name": "horsepower",
         "rawType": "float64",
         "type": "float"
        },
        {
         "name": "vehicle_weight",
         "rawType": "float64",
         "type": "float"
        },
        {
         "name": "acceleration",
         "rawType": "float64",
         "type": "float"
        },
        {
         "name": "model_year",
         "rawType": "int64",
         "type": "integer"
        },
        {
         "name": "origin",
         "rawType": "object",
         "type": "string"
        },
        {
         "name": "fuel_type",
         "rawType": "object",
         "type": "string"
        },
        {
         "name": "drivetrain",
         "rawType": "object",
         "type": "string"
        },
        {
         "name": "num_doors",
         "rawType": "float64",
         "type": "float"
        },
        {
         "name": "fuel_efficiency_mpg",
         "rawType": "float64",
         "type": "float"
        }
       ],
       "ref": "63803b68-d82c-4fdc-8c77-edd0b152fd92",
       "rows": [
        [
         "0",
         "170",
         "3.0",
         "159.0",
         "3413.433758606219",
         "17.7",
         "2003",
         "Europe",
         "Gasoline",
         "All-wheel drive",
         "0.0",
         "13.231728906241411"
        ],
        [
         "1",
         "130",
         "5.0",
         "97.0",
         "3149.664934220036",
         "17.8",
         "2007",
         "USA",
         "Gasoline",
         "Front-wheel drive",
         "0.0",
         "13.688217435463793"
        ],
        [
         "2",
         "170",
         null,
         "78.0",
         "3079.03899736884",
         "15.1",
         "2018",
         "Europe",
         "Gasoline",
         "Front-wheel drive",
         "0.0",
         "14.246340998160866"
        ],
        [
         "3",
         "220",
         "4.0",
         null,
         "2542.392401828378",
         "20.2",
         "2009",
         "USA",
         "Diesel",
         "All-wheel drive",
         "2.0",
         "16.91273559598635"
        ],
        [
         "4",
         "210",
         "1.0",
         "140.0",
         "3460.870989989018",
         "14.4",
         "2009",
         "Europe",
         "Gasoline",
         "All-wheel drive",
         "2.0",
         "12.488369121964562"
        ]
       ],
       "shape": {
        "columns": 11,
        "rows": 5
       }
      },
      "text/html": [
       "<div>\n",
       "<style scoped>\n",
       "    .dataframe tbody tr th:only-of-type {\n",
       "        vertical-align: middle;\n",
       "    }\n",
       "\n",
       "    .dataframe tbody tr th {\n",
       "        vertical-align: top;\n",
       "    }\n",
       "\n",
       "    .dataframe thead th {\n",
       "        text-align: right;\n",
       "    }\n",
       "</style>\n",
       "<table border=\"1\" class=\"dataframe\">\n",
       "  <thead>\n",
       "    <tr style=\"text-align: right;\">\n",
       "      <th></th>\n",
       "      <th>engine_displacement</th>\n",
       "      <th>num_cylinders</th>\n",
       "      <th>horsepower</th>\n",
       "      <th>vehicle_weight</th>\n",
       "      <th>acceleration</th>\n",
       "      <th>model_year</th>\n",
       "      <th>origin</th>\n",
       "      <th>fuel_type</th>\n",
       "      <th>drivetrain</th>\n",
       "      <th>num_doors</th>\n",
       "      <th>fuel_efficiency_mpg</th>\n",
       "    </tr>\n",
       "  </thead>\n",
       "  <tbody>\n",
       "    <tr>\n",
       "      <th>0</th>\n",
       "      <td>170</td>\n",
       "      <td>3.0</td>\n",
       "      <td>159.0</td>\n",
       "      <td>3413.433759</td>\n",
       "      <td>17.7</td>\n",
       "      <td>2003</td>\n",
       "      <td>Europe</td>\n",
       "      <td>Gasoline</td>\n",
       "      <td>All-wheel drive</td>\n",
       "      <td>0.0</td>\n",
       "      <td>13.231729</td>\n",
       "    </tr>\n",
       "    <tr>\n",
       "      <th>1</th>\n",
       "      <td>130</td>\n",
       "      <td>5.0</td>\n",
       "      <td>97.0</td>\n",
       "      <td>3149.664934</td>\n",
       "      <td>17.8</td>\n",
       "      <td>2007</td>\n",
       "      <td>USA</td>\n",
       "      <td>Gasoline</td>\n",
       "      <td>Front-wheel drive</td>\n",
       "      <td>0.0</td>\n",
       "      <td>13.688217</td>\n",
       "    </tr>\n",
       "    <tr>\n",
       "      <th>2</th>\n",
       "      <td>170</td>\n",
       "      <td>NaN</td>\n",
       "      <td>78.0</td>\n",
       "      <td>3079.038997</td>\n",
       "      <td>15.1</td>\n",
       "      <td>2018</td>\n",
       "      <td>Europe</td>\n",
       "      <td>Gasoline</td>\n",
       "      <td>Front-wheel drive</td>\n",
       "      <td>0.0</td>\n",
       "      <td>14.246341</td>\n",
       "    </tr>\n",
       "    <tr>\n",
       "      <th>3</th>\n",
       "      <td>220</td>\n",
       "      <td>4.0</td>\n",
       "      <td>NaN</td>\n",
       "      <td>2542.392402</td>\n",
       "      <td>20.2</td>\n",
       "      <td>2009</td>\n",
       "      <td>USA</td>\n",
       "      <td>Diesel</td>\n",
       "      <td>All-wheel drive</td>\n",
       "      <td>2.0</td>\n",
       "      <td>16.912736</td>\n",
       "    </tr>\n",
       "    <tr>\n",
       "      <th>4</th>\n",
       "      <td>210</td>\n",
       "      <td>1.0</td>\n",
       "      <td>140.0</td>\n",
       "      <td>3460.870990</td>\n",
       "      <td>14.4</td>\n",
       "      <td>2009</td>\n",
       "      <td>Europe</td>\n",
       "      <td>Gasoline</td>\n",
       "      <td>All-wheel drive</td>\n",
       "      <td>2.0</td>\n",
       "      <td>12.488369</td>\n",
       "    </tr>\n",
       "  </tbody>\n",
       "</table>\n",
       "</div>"
      ],
      "text/plain": [
       "   engine_displacement  num_cylinders  horsepower  vehicle_weight  \\\n",
       "0                  170            3.0       159.0     3413.433759   \n",
       "1                  130            5.0        97.0     3149.664934   \n",
       "2                  170            NaN        78.0     3079.038997   \n",
       "3                  220            4.0         NaN     2542.392402   \n",
       "4                  210            1.0       140.0     3460.870990   \n",
       "\n",
       "   acceleration  model_year  origin fuel_type         drivetrain  num_doors  \\\n",
       "0          17.7        2003  Europe  Gasoline    All-wheel drive        0.0   \n",
       "1          17.8        2007     USA  Gasoline  Front-wheel drive        0.0   \n",
       "2          15.1        2018  Europe  Gasoline  Front-wheel drive        0.0   \n",
       "3          20.2        2009     USA    Diesel    All-wheel drive        2.0   \n",
       "4          14.4        2009  Europe  Gasoline    All-wheel drive        2.0   \n",
       "\n",
       "   fuel_efficiency_mpg  \n",
       "0            13.231729  \n",
       "1            13.688217  \n",
       "2            14.246341  \n",
       "3            16.912736  \n",
       "4            12.488369  "
      ]
     },
     "execution_count": 28,
     "metadata": {},
     "output_type": "execute_result"
    }
   ],
   "source": [
    "car = pd.read_csv('https://raw.githubusercontent.com/alexeygrigorev/datasets/master/car_fuel_efficiency.csv')\n",
    "car.head()"
   ]
  },
  {
   "cell_type": "markdown",
   "id": "f8b85b51",
   "metadata": {},
   "source": [
    "## Q2. Records count"
   ]
  },
  {
   "cell_type": "code",
   "execution_count": 7,
   "id": "26475aa1",
   "metadata": {},
   "outputs": [
    {
     "data": {
      "text/plain": [
       "9704"
      ]
     },
     "execution_count": 7,
     "metadata": {},
     "output_type": "execute_result"
    }
   ],
   "source": [
    "car.shape[0]"
   ]
  },
  {
   "cell_type": "markdown",
   "id": "81dc852b",
   "metadata": {},
   "source": [
    "## Q3. Fuel types"
   ]
  },
  {
   "cell_type": "code",
   "execution_count": 9,
   "id": "72699e41",
   "metadata": {},
   "outputs": [
    {
     "data": {
      "application/vnd.microsoft.datawrangler.viewer.v0+json": {
       "columns": [
        {
         "name": "index",
         "rawType": "object",
         "type": "string"
        },
        {
         "name": "fuel_type",
         "rawType": "object",
         "type": "unknown"
        }
       ],
       "ref": "21e52d15-1d63-41b4-a9b6-b43e7c35a3aa",
       "rows": [
        [
         "count",
         "9704"
        ],
        [
         "unique",
         "2"
        ],
        [
         "top",
         "Gasoline"
        ],
        [
         "freq",
         "4898"
        ]
       ],
       "shape": {
        "columns": 1,
        "rows": 4
       }
      },
      "text/plain": [
       "count         9704\n",
       "unique           2\n",
       "top       Gasoline\n",
       "freq          4898\n",
       "Name: fuel_type, dtype: object"
      ]
     },
     "execution_count": 9,
     "metadata": {},
     "output_type": "execute_result"
    }
   ],
   "source": [
    "car.fuel_type.describe()"
   ]
  },
  {
   "cell_type": "markdown",
   "id": "b56e5140",
   "metadata": {},
   "source": [
    "## Q4. Missing values"
   ]
  },
  {
   "cell_type": "code",
   "execution_count": 10,
   "id": "2adc7bb4",
   "metadata": {},
   "outputs": [
    {
     "data": {
      "application/vnd.microsoft.datawrangler.viewer.v0+json": {
       "columns": [
        {
         "name": "index",
         "rawType": "object",
         "type": "string"
        },
        {
         "name": "0",
         "rawType": "int64",
         "type": "integer"
        }
       ],
       "ref": "a7960051-902b-4bf2-afe4-dbe93184fa1d",
       "rows": [
        [
         "engine_displacement",
         "0"
        ],
        [
         "num_cylinders",
         "482"
        ],
        [
         "horsepower",
         "708"
        ],
        [
         "vehicle_weight",
         "0"
        ],
        [
         "acceleration",
         "930"
        ],
        [
         "model_year",
         "0"
        ],
        [
         "origin",
         "0"
        ],
        [
         "fuel_type",
         "0"
        ],
        [
         "drivetrain",
         "0"
        ],
        [
         "num_doors",
         "502"
        ],
        [
         "fuel_efficiency_mpg",
         "0"
        ]
       ],
       "shape": {
        "columns": 1,
        "rows": 11
       }
      },
      "text/plain": [
       "engine_displacement      0\n",
       "num_cylinders          482\n",
       "horsepower             708\n",
       "vehicle_weight           0\n",
       "acceleration           930\n",
       "model_year               0\n",
       "origin                   0\n",
       "fuel_type                0\n",
       "drivetrain               0\n",
       "num_doors              502\n",
       "fuel_efficiency_mpg      0\n",
       "dtype: int64"
      ]
     },
     "execution_count": 10,
     "metadata": {},
     "output_type": "execute_result"
    }
   ],
   "source": [
    "car.isnull().sum()"
   ]
  },
  {
   "cell_type": "markdown",
   "id": "dbd98d0d",
   "metadata": {},
   "source": [
    "## Q5. Max fuel efficiency"
   ]
  },
  {
   "cell_type": "code",
   "execution_count": 12,
   "id": "2dacdc52",
   "metadata": {},
   "outputs": [
    {
     "data": {
      "application/vnd.microsoft.datawrangler.viewer.v0+json": {
       "columns": [
        {
         "name": "origin",
         "rawType": "object",
         "type": "string"
        },
        {
         "name": "fuel_efficiency_mpg",
         "rawType": "float64",
         "type": "float"
        }
       ],
       "ref": "d9c01d9e-ee45-4f81-92d5-b73b44d9377f",
       "rows": [
        [
         "Asia",
         "23.759122836520497"
        ],
        [
         "Europe",
         "25.96722204888372"
        ],
        [
         "USA",
         "24.971452356471183"
        ]
       ],
       "shape": {
        "columns": 1,
        "rows": 3
       }
      },
      "text/plain": [
       "origin\n",
       "Asia      23.759123\n",
       "Europe    25.967222\n",
       "USA       24.971452\n",
       "Name: fuel_efficiency_mpg, dtype: float64"
      ]
     },
     "execution_count": 12,
     "metadata": {},
     "output_type": "execute_result"
    }
   ],
   "source": [
    "car.groupby('origin').fuel_efficiency_mpg.max()"
   ]
  },
  {
   "cell_type": "markdown",
   "id": "76df67da",
   "metadata": {},
   "source": [
    "## Q6. Median value of horsepower"
   ]
  },
  {
   "cell_type": "code",
   "execution_count": 31,
   "id": "9afd14f9",
   "metadata": {},
   "outputs": [
    {
     "data": {
      "application/vnd.microsoft.datawrangler.viewer.v0+json": {
       "columns": [
        {
         "name": "index",
         "rawType": "int64",
         "type": "integer"
        },
        {
         "name": "horsepower",
         "rawType": "float64",
         "type": "float"
        }
       ],
       "ref": "10ce29a7-5d08-4e68-8269-6a06368e95c1",
       "rows": [
        [
         "0",
         "159.0"
        ],
        [
         "1",
         "97.0"
        ],
        [
         "2",
         "78.0"
        ],
        [
         "3",
         null
        ],
        [
         "4",
         "140.0"
        ],
        [
         "5",
         null
        ],
        [
         "6",
         "127.0"
        ],
        [
         "7",
         "239.0"
        ],
        [
         "8",
         "174.0"
        ],
        [
         "9",
         "123.0"
        ],
        [
         "10",
         "100.0"
        ],
        [
         "11",
         null
        ],
        [
         "12",
         "145.0"
        ],
        [
         "13",
         "193.0"
        ],
        [
         "14",
         "160.0"
        ],
        [
         "15",
         "179.0"
        ],
        [
         "16",
         "180.0"
        ],
        [
         "17",
         "132.0"
        ],
        [
         "18",
         "110.0"
        ],
        [
         "19",
         "126.0"
        ],
        [
         "20",
         "197.0"
        ],
        [
         "21",
         "133.0"
        ],
        [
         "22",
         "144.0"
        ],
        [
         "23",
         "160.0"
        ],
        [
         "24",
         "156.0"
        ],
        [
         "25",
         "157.0"
        ],
        [
         "26",
         "160.0"
        ],
        [
         "27",
         "206.0"
        ],
        [
         "28",
         "154.0"
        ],
        [
         "29",
         "132.0"
        ],
        [
         "30",
         "140.0"
        ],
        [
         "31",
         "153.0"
        ],
        [
         "32",
         "136.0"
        ],
        [
         "33",
         "168.0"
        ],
        [
         "34",
         "149.0"
        ],
        [
         "35",
         "127.0"
        ],
        [
         "36",
         "143.0"
        ],
        [
         "37",
         "132.0"
        ],
        [
         "38",
         "158.0"
        ],
        [
         "39",
         "176.0"
        ],
        [
         "40",
         "108.0"
        ],
        [
         "41",
         "125.0"
        ],
        [
         "42",
         "123.0"
        ],
        [
         "43",
         "123.0"
        ],
        [
         "44",
         "142.0"
        ],
        [
         "45",
         "139.0"
        ],
        [
         "46",
         "170.0"
        ],
        [
         "47",
         "135.0"
        ],
        [
         "48",
         "202.0"
        ],
        [
         "49",
         "99.0"
        ]
       ],
       "shape": {
        "columns": 1,
        "rows": 9704
       }
      },
      "text/plain": [
       "0       159.0\n",
       "1        97.0\n",
       "2        78.0\n",
       "3         NaN\n",
       "4       140.0\n",
       "        ...  \n",
       "9699    164.0\n",
       "9700    154.0\n",
       "9701    138.0\n",
       "9702    177.0\n",
       "9703    140.0\n",
       "Name: horsepower, Length: 9704, dtype: float64"
      ]
     },
     "execution_count": 31,
     "metadata": {},
     "output_type": "execute_result"
    }
   ],
   "source": [
    "car.horsepower"
   ]
  },
  {
   "cell_type": "code",
   "execution_count": 29,
   "id": "d60638b8",
   "metadata": {},
   "outputs": [
    {
     "data": {
      "text/plain": [
       "149.0"
      ]
     },
     "execution_count": 29,
     "metadata": {},
     "output_type": "execute_result"
    }
   ],
   "source": [
    "med_before = car.horsepower.median()\n",
    "med_before"
   ]
  },
  {
   "cell_type": "code",
   "execution_count": 30,
   "id": "11253848",
   "metadata": {},
   "outputs": [
    {
     "data": {
      "text/plain": [
       "152.0"
      ]
     },
     "execution_count": 30,
     "metadata": {},
     "output_type": "execute_result"
    }
   ],
   "source": [
    "most_freq = car.horsepower.mode()[0]\n",
    "most_freq"
   ]
  },
  {
   "cell_type": "code",
   "execution_count": 32,
   "id": "74442c85",
   "metadata": {},
   "outputs": [
    {
     "data": {
      "application/vnd.microsoft.datawrangler.viewer.v0+json": {
       "columns": [
        {
         "name": "index",
         "rawType": "int64",
         "type": "integer"
        },
        {
         "name": "horsepower",
         "rawType": "float64",
         "type": "float"
        }
       ],
       "ref": "f01b763b-ec92-4100-8f24-9015e04972e6",
       "rows": [
        [
         "0",
         "159.0"
        ],
        [
         "1",
         "97.0"
        ],
        [
         "2",
         "78.0"
        ],
        [
         "3",
         "152.0"
        ],
        [
         "4",
         "140.0"
        ],
        [
         "5",
         "152.0"
        ],
        [
         "6",
         "127.0"
        ],
        [
         "7",
         "239.0"
        ],
        [
         "8",
         "174.0"
        ],
        [
         "9",
         "123.0"
        ],
        [
         "10",
         "100.0"
        ],
        [
         "11",
         "152.0"
        ],
        [
         "12",
         "145.0"
        ],
        [
         "13",
         "193.0"
        ],
        [
         "14",
         "160.0"
        ],
        [
         "15",
         "179.0"
        ],
        [
         "16",
         "180.0"
        ],
        [
         "17",
         "132.0"
        ],
        [
         "18",
         "110.0"
        ],
        [
         "19",
         "126.0"
        ],
        [
         "20",
         "197.0"
        ],
        [
         "21",
         "133.0"
        ],
        [
         "22",
         "144.0"
        ],
        [
         "23",
         "160.0"
        ],
        [
         "24",
         "156.0"
        ],
        [
         "25",
         "157.0"
        ],
        [
         "26",
         "160.0"
        ],
        [
         "27",
         "206.0"
        ],
        [
         "28",
         "154.0"
        ],
        [
         "29",
         "132.0"
        ],
        [
         "30",
         "140.0"
        ],
        [
         "31",
         "153.0"
        ],
        [
         "32",
         "136.0"
        ],
        [
         "33",
         "168.0"
        ],
        [
         "34",
         "149.0"
        ],
        [
         "35",
         "127.0"
        ],
        [
         "36",
         "143.0"
        ],
        [
         "37",
         "132.0"
        ],
        [
         "38",
         "158.0"
        ],
        [
         "39",
         "176.0"
        ],
        [
         "40",
         "108.0"
        ],
        [
         "41",
         "125.0"
        ],
        [
         "42",
         "123.0"
        ],
        [
         "43",
         "123.0"
        ],
        [
         "44",
         "142.0"
        ],
        [
         "45",
         "139.0"
        ],
        [
         "46",
         "170.0"
        ],
        [
         "47",
         "135.0"
        ],
        [
         "48",
         "202.0"
        ],
        [
         "49",
         "99.0"
        ]
       ],
       "shape": {
        "columns": 1,
        "rows": 9704
       }
      },
      "text/plain": [
       "0       159.0\n",
       "1        97.0\n",
       "2        78.0\n",
       "3       152.0\n",
       "4       140.0\n",
       "        ...  \n",
       "9699    164.0\n",
       "9700    154.0\n",
       "9701    138.0\n",
       "9702    177.0\n",
       "9703    140.0\n",
       "Name: horsepower, Length: 9704, dtype: float64"
      ]
     },
     "execution_count": 32,
     "metadata": {},
     "output_type": "execute_result"
    }
   ],
   "source": [
    "car.horsepower = car.horsepower.fillna(most_freq)\n",
    "car.horsepower"
   ]
  },
  {
   "cell_type": "code",
   "execution_count": 33,
   "id": "adbb4b56",
   "metadata": {},
   "outputs": [
    {
     "data": {
      "text/plain": [
       "152.0"
      ]
     },
     "execution_count": 33,
     "metadata": {},
     "output_type": "execute_result"
    }
   ],
   "source": [
    "med_after = car.horsepower.median()\n",
    "med_after"
   ]
  },
  {
   "cell_type": "markdown",
   "id": "25373c71",
   "metadata": {},
   "source": [
    "## Q7. Sum of weights"
   ]
  },
  {
   "cell_type": "code",
   "execution_count": 35,
   "id": "ce222a93",
   "metadata": {},
   "outputs": [
    {
     "data": {
      "application/vnd.microsoft.datawrangler.viewer.v0+json": {
       "columns": [
        {
         "name": "index",
         "rawType": "int64",
         "type": "integer"
        },
        {
         "name": "engine_displacement",
         "rawType": "int64",
         "type": "integer"
        },
        {
         "name": "num_cylinders",
         "rawType": "float64",
         "type": "float"
        },
        {
         "name": "horsepower",
         "rawType": "float64",
         "type": "float"
        },
        {
         "name": "vehicle_weight",
         "rawType": "float64",
         "type": "float"
        },
        {
         "name": "acceleration",
         "rawType": "float64",
         "type": "float"
        },
        {
         "name": "model_year",
         "rawType": "int64",
         "type": "integer"
        },
        {
         "name": "origin",
         "rawType": "object",
         "type": "string"
        },
        {
         "name": "fuel_type",
         "rawType": "object",
         "type": "string"
        },
        {
         "name": "drivetrain",
         "rawType": "object",
         "type": "string"
        },
        {
         "name": "num_doors",
         "rawType": "float64",
         "type": "float"
        },
        {
         "name": "fuel_efficiency_mpg",
         "rawType": "float64",
         "type": "float"
        }
       ],
       "ref": "4cfa645a-94d7-4420-862b-bb8ebb0c0fcf",
       "rows": [
        [
         "8",
         "250",
         "1.0",
         "174.0",
         "2714.219309645285",
         "10.3",
         "2016",
         "Asia",
         "Diesel",
         "Front-wheel drive",
         "-1.0",
         "16.823553726916543"
        ],
        [
         "12",
         "320",
         "5.0",
         "145.0",
         "2783.8689742437728",
         "15.1",
         "2010",
         "Asia",
         "Diesel",
         "All-wheel drive",
         "1.0",
         "16.17581958009284"
        ],
        [
         "14",
         "200",
         "6.0",
         "160.0",
         "3582.687367715132",
         "14.9",
         "2007",
         "Asia",
         "Diesel",
         "All-wheel drive",
         "0.0",
         "11.871091010445811"
        ],
        [
         "20",
         "150",
         "3.0",
         "197.0",
         "2231.8081416029345",
         "18.7",
         "2011",
         "Asia",
         "Gasoline",
         "Front-wheel drive",
         "1.0",
         "18.88908257097108"
        ],
        [
         "21",
         "160",
         "4.0",
         "133.0",
         "2659.431450757995",
         null,
         "2016",
         "Asia",
         "Gasoline",
         "Front-wheel drive",
         "-1.0",
         "16.077730214491176"
        ],
        [
         "34",
         "150",
         "2.0",
         "149.0",
         "2844.2275338857653",
         "17.3",
         "2014",
         "Asia",
         "Diesel",
         "Front-wheel drive",
         "0.0",
         "15.353788201522017"
        ],
        [
         "38",
         "190",
         "5.0",
         "158.0",
         "3761.9940381922206",
         null,
         "2019",
         "Asia",
         "Gasoline",
         "Front-wheel drive",
         "1.0",
         "11.645724047561528"
        ],
        [
         "43",
         "170",
         "4.0",
         "123.0",
         "2957.6811098887447",
         "14.4",
         "2012",
         "Asia",
         "Diesel",
         "All-wheel drive",
         "-1.0",
         "15.039796931634644"
        ],
        [
         "44",
         "240",
         "2.0",
         "142.0",
         "2544.516801769428",
         "12.9",
         "2016",
         "Asia",
         "Gasoline",
         "All-wheel drive",
         "0.0",
         "17.600327865900464"
        ],
        [
         "48",
         "190",
         "5.0",
         "202.0",
         "2531.185247040718",
         "16.2",
         "2016",
         "Asia",
         "Gasoline",
         "All-wheel drive",
         "0.0",
         "17.983505227568678"
        ],
        [
         "51",
         "270",
         "3.0",
         "152.0",
         "2730.9471044643847",
         null,
         "2015",
         "Asia",
         "Diesel",
         "All-wheel drive",
         "-1.0",
         "15.82098165489468"
        ],
        [
         "57",
         "210",
         "5.0",
         "128.0",
         "3654.1395563912342",
         "17.3",
         "2015",
         "Asia",
         "Gasoline",
         "Front-wheel drive",
         null,
         "11.550323928127572"
        ],
        [
         "60",
         "240",
         "5.0",
         "152.0",
         "2677.52170988898",
         "13.2",
         "2003",
         "Asia",
         "Diesel",
         "Front-wheel drive",
         "0.0",
         "16.31743149857548"
        ],
        [
         "74",
         "160",
         "6.0",
         "196.0",
         "2858.715432560616",
         "16.8",
         "2006",
         "Asia",
         "Gasoline",
         "All-wheel drive",
         "0.0",
         "16.138145622702815"
        ],
        [
         "76",
         "190",
         "4.0",
         "133.0",
         "3925.506911760992",
         "17.1",
         "2000",
         "Asia",
         "Gasoline",
         "Front-wheel drive",
         "0.0",
         "10.236175734106144"
        ],
        [
         "79",
         "210",
         "3.0",
         "152.0",
         "3429.169392019084",
         "16.8",
         "2012",
         "Asia",
         "Gasoline",
         "Front-wheel drive",
         "1.0",
         "12.919793266773633"
        ],
        [
         "87",
         "240",
         "0.0",
         "179.0",
         "2928.390984041444",
         "16.2",
         "2010",
         "Asia",
         "Diesel",
         "Front-wheel drive",
         "1.0",
         "15.1925413931655"
        ],
        [
         "88",
         "240",
         "7.0",
         "166.0",
         "3925.5586878590752",
         "9.8",
         "2010",
         "Asia",
         "Gasoline",
         "Front-wheel drive",
         "0.0",
         "11.781953644467873"
        ],
        [
         "89",
         "180",
         "4.0",
         "101.0",
         "2065.5431253394445",
         "17.7",
         "2005",
         "Asia",
         "Gasoline",
         "All-wheel drive",
         "0.0",
         "19.106654789919126"
        ],
        [
         "102",
         "250",
         "6.0",
         "177.0",
         "2705.632696518827",
         "10.1",
         "2003",
         "Asia",
         "Gasoline",
         "All-wheel drive",
         "2.0",
         "17.36358518579527"
        ],
        [
         "104",
         "140",
         "1.0",
         "166.0",
         "3238.177967641373",
         "14.9",
         "2011",
         "Asia",
         "Gasoline",
         "All-wheel drive",
         "1.0",
         "13.784027898457635"
        ],
        [
         "105",
         "310",
         null,
         "103.0",
         "3514.690129960512",
         "15.7",
         "2011",
         "Asia",
         "Gasoline",
         "Front-wheel drive",
         "0.0",
         "11.745027917789637"
        ],
        [
         "108",
         "290",
         "4.0",
         "184.0",
         "3090.89413681191",
         "16.6",
         "2002",
         "Asia",
         "Gasoline",
         "All-wheel drive",
         "1.0",
         "14.98594049869758"
        ],
        [
         "111",
         "240",
         "6.0",
         "151.0",
         "3444.2532181983206",
         "12.1",
         "2008",
         "Asia",
         "Diesel",
         "Front-wheel drive",
         null,
         "13.190997221220323"
        ],
        [
         "113",
         "200",
         "2.0",
         "163.0",
         "3146.743143565958",
         "13.0",
         "2005",
         "Asia",
         "Gasoline",
         "All-wheel drive",
         "0.0",
         "14.395615578556114"
        ],
        [
         "115",
         "210",
         "3.0",
         "162.0",
         "3642.4980770826874",
         "15.6",
         "2001",
         "Asia",
         "Gasoline",
         "All-wheel drive",
         "0.0",
         "10.963506046167412"
        ],
        [
         "117",
         "280",
         "1.0",
         "104.0",
         "3650.722390412526",
         "13.3",
         "2010",
         "Asia",
         "Gasoline",
         "Front-wheel drive",
         "1.0",
         "11.342614871840736"
        ],
        [
         "119",
         "230",
         "2.0",
         "137.0",
         "2859.270425474493",
         "15.4",
         "2017",
         "Asia",
         "Gasoline",
         "All-wheel drive",
         "-1.0",
         "15.534575330284182"
        ],
        [
         "123",
         "270",
         "6.0",
         "135.0",
         "2435.3611644468947",
         "15.0",
         "2006",
         "Asia",
         "Gasoline",
         "Front-wheel drive",
         "0.0",
         "17.958386086087742"
        ],
        [
         "125",
         "200",
         "3.0",
         "143.0",
         "2950.822121334588",
         "17.1",
         "2013",
         "Asia",
         "Diesel",
         "Front-wheel drive",
         "-1.0",
         "15.331214658436403"
        ],
        [
         "130",
         "180",
         "5.0",
         "164.0",
         "3011.935745333787",
         "13.5",
         "2018",
         "Asia",
         "Gasoline",
         "All-wheel drive",
         "0.0",
         "15.519705640049803"
        ],
        [
         "131",
         "200",
         "4.0",
         "123.0",
         "2842.992310766458",
         "15.7",
         "2010",
         "Asia",
         "Gasoline",
         "Front-wheel drive",
         "3.0",
         "15.172158285749552"
        ],
        [
         "132",
         "110",
         "4.0",
         "149.0",
         "2686.2920420207847",
         "13.9",
         "2011",
         "Asia",
         "Diesel",
         "All-wheel drive",
         "0.0",
         "16.54995387725934"
        ],
        [
         "134",
         "90",
         "1.0",
         "148.0",
         "2528.3479461904435",
         "11.9",
         "2002",
         "Asia",
         "Diesel",
         "Front-wheel drive",
         "1.0",
         "17.540475740681295"
        ],
        [
         "135",
         "170",
         "4.0",
         "153.0",
         "3678.720747386177",
         "15.8",
         "2022",
         "Asia",
         "Gasoline",
         "Front-wheel drive",
         "-1.0",
         "11.353188504588235"
        ],
        [
         "144",
         "260",
         "2.0",
         "200.0",
         "2216.540197957567",
         "15.0",
         "2016",
         "Asia",
         "Gasoline",
         "All-wheel drive",
         "1.0",
         "18.841960135846293"
        ],
        [
         "151",
         "190",
         "2.0",
         "179.0",
         "3953.311649204393",
         "15.6",
         "2003",
         "Asia",
         "Diesel",
         "Front-wheel drive",
         "0.0",
         "10.188722574984988"
        ],
        [
         "153",
         "310",
         "0.0",
         "159.0",
         "2376.284548972947",
         null,
         "2005",
         "Asia",
         "Diesel",
         "All-wheel drive",
         "-1.0",
         "17.863914553778507"
        ],
        [
         "154",
         "140",
         "4.0",
         "172.0",
         "3966.299770850817",
         "14.3",
         "2014",
         "Asia",
         "Gasoline",
         "All-wheel drive",
         "-1.0",
         "9.984908640845251"
        ],
        [
         "156",
         "220",
         "1.0",
         "139.0",
         "2577.120411484481",
         "15.1",
         "2007",
         "Asia",
         "Diesel",
         "Front-wheel drive",
         "0.0",
         "17.390924993136817"
        ],
        [
         "160",
         "140",
         "8.0",
         "130.0",
         "2403.181129982779",
         "15.0",
         "2020",
         "Asia",
         "Diesel",
         "Front-wheel drive",
         "-1.0",
         "17.798755253041886"
        ],
        [
         "161",
         "220",
         "6.0",
         "170.0",
         "2374.4828658875795",
         "16.8",
         "2015",
         "Asia",
         "Diesel",
         "Front-wheel drive",
         "1.0",
         "18.357378387890183"
        ],
        [
         "166",
         "200",
         "5.0",
         "150.0",
         "3965.339213908783",
         "12.0",
         "2018",
         "Asia",
         "Gasoline",
         "All-wheel drive",
         "0.0",
         "10.465232689090865"
        ],
        [
         "167",
         "150",
         "4.0",
         "192.0",
         "2824.478265006889",
         "13.8",
         "2002",
         "Asia",
         "Diesel",
         "All-wheel drive",
         "2.0",
         "16.696031085278673"
        ],
        [
         "171",
         "200",
         "8.0",
         "217.0",
         "2156.3676639373502",
         "16.7",
         "2012",
         "Asia",
         "Gasoline",
         "Front-wheel drive",
         "1.0",
         "19.4424734803092"
        ],
        [
         "172",
         "200",
         "2.0",
         "147.0",
         "4043.595771631228",
         "16.2",
         "2014",
         "Asia",
         "Gasoline",
         "All-wheel drive",
         "1.0",
         "9.957139470311276"
        ],
        [
         "173",
         "230",
         "3.0",
         "172.0",
         "2697.423182331291",
         "16.1",
         "2011",
         "Asia",
         "Diesel",
         "All-wheel drive",
         "2.0",
         "16.75466934147011"
        ],
        [
         "176",
         "240",
         null,
         "120.0",
         "3450.59314322959",
         "14.3",
         "2023",
         "Asia",
         "Diesel",
         "All-wheel drive",
         "1.0",
         "12.895396757676426"
        ],
        [
         "184",
         "140",
         "9.0",
         "83.0",
         "3007.3271482865844",
         "16.6",
         "2022",
         "Asia",
         "Diesel",
         "All-wheel drive",
         "1.0",
         "13.991309283118838"
        ],
        [
         "185",
         "210",
         "6.0",
         "101.0",
         "2725.919222680632",
         "11.6",
         "2015",
         "Asia",
         "Diesel",
         "Front-wheel drive",
         "0.0",
         "16.003261680782987"
        ]
       ],
       "shape": {
        "columns": 11,
        "rows": 3247
       }
      },
      "text/html": [
       "<div>\n",
       "<style scoped>\n",
       "    .dataframe tbody tr th:only-of-type {\n",
       "        vertical-align: middle;\n",
       "    }\n",
       "\n",
       "    .dataframe tbody tr th {\n",
       "        vertical-align: top;\n",
       "    }\n",
       "\n",
       "    .dataframe thead th {\n",
       "        text-align: right;\n",
       "    }\n",
       "</style>\n",
       "<table border=\"1\" class=\"dataframe\">\n",
       "  <thead>\n",
       "    <tr style=\"text-align: right;\">\n",
       "      <th></th>\n",
       "      <th>engine_displacement</th>\n",
       "      <th>num_cylinders</th>\n",
       "      <th>horsepower</th>\n",
       "      <th>vehicle_weight</th>\n",
       "      <th>acceleration</th>\n",
       "      <th>model_year</th>\n",
       "      <th>origin</th>\n",
       "      <th>fuel_type</th>\n",
       "      <th>drivetrain</th>\n",
       "      <th>num_doors</th>\n",
       "      <th>fuel_efficiency_mpg</th>\n",
       "    </tr>\n",
       "  </thead>\n",
       "  <tbody>\n",
       "    <tr>\n",
       "      <th>8</th>\n",
       "      <td>250</td>\n",
       "      <td>1.0</td>\n",
       "      <td>174.0</td>\n",
       "      <td>2714.219310</td>\n",
       "      <td>10.3</td>\n",
       "      <td>2016</td>\n",
       "      <td>Asia</td>\n",
       "      <td>Diesel</td>\n",
       "      <td>Front-wheel drive</td>\n",
       "      <td>-1.0</td>\n",
       "      <td>16.823554</td>\n",
       "    </tr>\n",
       "    <tr>\n",
       "      <th>12</th>\n",
       "      <td>320</td>\n",
       "      <td>5.0</td>\n",
       "      <td>145.0</td>\n",
       "      <td>2783.868974</td>\n",
       "      <td>15.1</td>\n",
       "      <td>2010</td>\n",
       "      <td>Asia</td>\n",
       "      <td>Diesel</td>\n",
       "      <td>All-wheel drive</td>\n",
       "      <td>1.0</td>\n",
       "      <td>16.175820</td>\n",
       "    </tr>\n",
       "    <tr>\n",
       "      <th>14</th>\n",
       "      <td>200</td>\n",
       "      <td>6.0</td>\n",
       "      <td>160.0</td>\n",
       "      <td>3582.687368</td>\n",
       "      <td>14.9</td>\n",
       "      <td>2007</td>\n",
       "      <td>Asia</td>\n",
       "      <td>Diesel</td>\n",
       "      <td>All-wheel drive</td>\n",
       "      <td>0.0</td>\n",
       "      <td>11.871091</td>\n",
       "    </tr>\n",
       "    <tr>\n",
       "      <th>20</th>\n",
       "      <td>150</td>\n",
       "      <td>3.0</td>\n",
       "      <td>197.0</td>\n",
       "      <td>2231.808142</td>\n",
       "      <td>18.7</td>\n",
       "      <td>2011</td>\n",
       "      <td>Asia</td>\n",
       "      <td>Gasoline</td>\n",
       "      <td>Front-wheel drive</td>\n",
       "      <td>1.0</td>\n",
       "      <td>18.889083</td>\n",
       "    </tr>\n",
       "    <tr>\n",
       "      <th>21</th>\n",
       "      <td>160</td>\n",
       "      <td>4.0</td>\n",
       "      <td>133.0</td>\n",
       "      <td>2659.431451</td>\n",
       "      <td>NaN</td>\n",
       "      <td>2016</td>\n",
       "      <td>Asia</td>\n",
       "      <td>Gasoline</td>\n",
       "      <td>Front-wheel drive</td>\n",
       "      <td>-1.0</td>\n",
       "      <td>16.077730</td>\n",
       "    </tr>\n",
       "    <tr>\n",
       "      <th>...</th>\n",
       "      <td>...</td>\n",
       "      <td>...</td>\n",
       "      <td>...</td>\n",
       "      <td>...</td>\n",
       "      <td>...</td>\n",
       "      <td>...</td>\n",
       "      <td>...</td>\n",
       "      <td>...</td>\n",
       "      <td>...</td>\n",
       "      <td>...</td>\n",
       "      <td>...</td>\n",
       "    </tr>\n",
       "    <tr>\n",
       "      <th>9688</th>\n",
       "      <td>260</td>\n",
       "      <td>4.0</td>\n",
       "      <td>152.0</td>\n",
       "      <td>3948.404625</td>\n",
       "      <td>15.5</td>\n",
       "      <td>2018</td>\n",
       "      <td>Asia</td>\n",
       "      <td>Diesel</td>\n",
       "      <td>All-wheel drive</td>\n",
       "      <td>-1.0</td>\n",
       "      <td>11.054830</td>\n",
       "    </tr>\n",
       "    <tr>\n",
       "      <th>9692</th>\n",
       "      <td>180</td>\n",
       "      <td>3.0</td>\n",
       "      <td>188.0</td>\n",
       "      <td>3680.341381</td>\n",
       "      <td>18.0</td>\n",
       "      <td>2016</td>\n",
       "      <td>Asia</td>\n",
       "      <td>Gasoline</td>\n",
       "      <td>Front-wheel drive</td>\n",
       "      <td>1.0</td>\n",
       "      <td>11.711653</td>\n",
       "    </tr>\n",
       "    <tr>\n",
       "      <th>9693</th>\n",
       "      <td>280</td>\n",
       "      <td>2.0</td>\n",
       "      <td>148.0</td>\n",
       "      <td>2545.070139</td>\n",
       "      <td>15.6</td>\n",
       "      <td>2012</td>\n",
       "      <td>Asia</td>\n",
       "      <td>Diesel</td>\n",
       "      <td>All-wheel drive</td>\n",
       "      <td>0.0</td>\n",
       "      <td>17.202782</td>\n",
       "    </tr>\n",
       "    <tr>\n",
       "      <th>9698</th>\n",
       "      <td>180</td>\n",
       "      <td>1.0</td>\n",
       "      <td>131.0</td>\n",
       "      <td>3107.427820</td>\n",
       "      <td>13.2</td>\n",
       "      <td>2005</td>\n",
       "      <td>Asia</td>\n",
       "      <td>Gasoline</td>\n",
       "      <td>Front-wheel drive</td>\n",
       "      <td>-2.0</td>\n",
       "      <td>13.933716</td>\n",
       "    </tr>\n",
       "    <tr>\n",
       "      <th>9703</th>\n",
       "      <td>270</td>\n",
       "      <td>3.0</td>\n",
       "      <td>140.0</td>\n",
       "      <td>2908.043477</td>\n",
       "      <td>14.7</td>\n",
       "      <td>2005</td>\n",
       "      <td>Asia</td>\n",
       "      <td>Diesel</td>\n",
       "      <td>All-wheel drive</td>\n",
       "      <td>-1.0</td>\n",
       "      <td>14.884467</td>\n",
       "    </tr>\n",
       "  </tbody>\n",
       "</table>\n",
       "<p>3247 rows × 11 columns</p>\n",
       "</div>"
      ],
      "text/plain": [
       "      engine_displacement  num_cylinders  horsepower  vehicle_weight  \\\n",
       "8                     250            1.0       174.0     2714.219310   \n",
       "12                    320            5.0       145.0     2783.868974   \n",
       "14                    200            6.0       160.0     3582.687368   \n",
       "20                    150            3.0       197.0     2231.808142   \n",
       "21                    160            4.0       133.0     2659.431451   \n",
       "...                   ...            ...         ...             ...   \n",
       "9688                  260            4.0       152.0     3948.404625   \n",
       "9692                  180            3.0       188.0     3680.341381   \n",
       "9693                  280            2.0       148.0     2545.070139   \n",
       "9698                  180            1.0       131.0     3107.427820   \n",
       "9703                  270            3.0       140.0     2908.043477   \n",
       "\n",
       "      acceleration  model_year origin fuel_type         drivetrain  num_doors  \\\n",
       "8             10.3        2016   Asia    Diesel  Front-wheel drive       -1.0   \n",
       "12            15.1        2010   Asia    Diesel    All-wheel drive        1.0   \n",
       "14            14.9        2007   Asia    Diesel    All-wheel drive        0.0   \n",
       "20            18.7        2011   Asia  Gasoline  Front-wheel drive        1.0   \n",
       "21             NaN        2016   Asia  Gasoline  Front-wheel drive       -1.0   \n",
       "...            ...         ...    ...       ...                ...        ...   \n",
       "9688          15.5        2018   Asia    Diesel    All-wheel drive       -1.0   \n",
       "9692          18.0        2016   Asia  Gasoline  Front-wheel drive        1.0   \n",
       "9693          15.6        2012   Asia    Diesel    All-wheel drive        0.0   \n",
       "9698          13.2        2005   Asia  Gasoline  Front-wheel drive       -2.0   \n",
       "9703          14.7        2005   Asia    Diesel    All-wheel drive       -1.0   \n",
       "\n",
       "      fuel_efficiency_mpg  \n",
       "8               16.823554  \n",
       "12              16.175820  \n",
       "14              11.871091  \n",
       "20              18.889083  \n",
       "21              16.077730  \n",
       "...                   ...  \n",
       "9688            11.054830  \n",
       "9692            11.711653  \n",
       "9693            17.202782  \n",
       "9698            13.933716  \n",
       "9703            14.884467  \n",
       "\n",
       "[3247 rows x 11 columns]"
      ]
     },
     "execution_count": 35,
     "metadata": {},
     "output_type": "execute_result"
    }
   ],
   "source": [
    "asian_car = car[car['origin'] == 'Asia']\n",
    "asian_car"
   ]
  },
  {
   "cell_type": "code",
   "execution_count": 40,
   "id": "30800797",
   "metadata": {},
   "outputs": [
    {
     "data": {
      "application/vnd.microsoft.datawrangler.viewer.v0+json": {
       "columns": [
        {
         "name": "index",
         "rawType": "int64",
         "type": "integer"
        },
        {
         "name": "vehicle_weight",
         "rawType": "float64",
         "type": "float"
        },
        {
         "name": "model_year",
         "rawType": "int64",
         "type": "integer"
        }
       ],
       "ref": "f6873a43-b71a-4101-8285-8ccdf873dc50",
       "rows": [
        [
         "8",
         "2714.219309645285",
         "2016"
        ],
        [
         "12",
         "2783.8689742437728",
         "2010"
        ],
        [
         "14",
         "3582.687367715132",
         "2007"
        ],
        [
         "20",
         "2231.8081416029345",
         "2011"
        ],
        [
         "21",
         "2659.431450757995",
         "2016"
        ],
        [
         "34",
         "2844.2275338857653",
         "2014"
        ],
        [
         "38",
         "3761.9940381922206",
         "2019"
        ]
       ],
       "shape": {
        "columns": 2,
        "rows": 7
       }
      },
      "text/html": [
       "<div>\n",
       "<style scoped>\n",
       "    .dataframe tbody tr th:only-of-type {\n",
       "        vertical-align: middle;\n",
       "    }\n",
       "\n",
       "    .dataframe tbody tr th {\n",
       "        vertical-align: top;\n",
       "    }\n",
       "\n",
       "    .dataframe thead th {\n",
       "        text-align: right;\n",
       "    }\n",
       "</style>\n",
       "<table border=\"1\" class=\"dataframe\">\n",
       "  <thead>\n",
       "    <tr style=\"text-align: right;\">\n",
       "      <th></th>\n",
       "      <th>vehicle_weight</th>\n",
       "      <th>model_year</th>\n",
       "    </tr>\n",
       "  </thead>\n",
       "  <tbody>\n",
       "    <tr>\n",
       "      <th>8</th>\n",
       "      <td>2714.219310</td>\n",
       "      <td>2016</td>\n",
       "    </tr>\n",
       "    <tr>\n",
       "      <th>12</th>\n",
       "      <td>2783.868974</td>\n",
       "      <td>2010</td>\n",
       "    </tr>\n",
       "    <tr>\n",
       "      <th>14</th>\n",
       "      <td>3582.687368</td>\n",
       "      <td>2007</td>\n",
       "    </tr>\n",
       "    <tr>\n",
       "      <th>20</th>\n",
       "      <td>2231.808142</td>\n",
       "      <td>2011</td>\n",
       "    </tr>\n",
       "    <tr>\n",
       "      <th>21</th>\n",
       "      <td>2659.431451</td>\n",
       "      <td>2016</td>\n",
       "    </tr>\n",
       "    <tr>\n",
       "      <th>34</th>\n",
       "      <td>2844.227534</td>\n",
       "      <td>2014</td>\n",
       "    </tr>\n",
       "    <tr>\n",
       "      <th>38</th>\n",
       "      <td>3761.994038</td>\n",
       "      <td>2019</td>\n",
       "    </tr>\n",
       "  </tbody>\n",
       "</table>\n",
       "</div>"
      ],
      "text/plain": [
       "    vehicle_weight  model_year\n",
       "8      2714.219310        2016\n",
       "12     2783.868974        2010\n",
       "14     3582.687368        2007\n",
       "20     2231.808142        2011\n",
       "21     2659.431451        2016\n",
       "34     2844.227534        2014\n",
       "38     3761.994038        2019"
      ]
     },
     "execution_count": 40,
     "metadata": {},
     "output_type": "execute_result"
    }
   ],
   "source": [
    "sel_asian_car = asian_car[['vehicle_weight', 'model_year']].head(7)\n",
    "sel_asian_car "
   ]
  },
  {
   "cell_type": "code",
   "execution_count": 50,
   "id": "4398b310",
   "metadata": {},
   "outputs": [
    {
     "data": {
      "text/plain": [
       "array([[2714.21930965, 2016.        ],\n",
       "       [2783.86897424, 2010.        ],\n",
       "       [3582.68736772, 2007.        ],\n",
       "       [2231.8081416 , 2011.        ],\n",
       "       [2659.43145076, 2016.        ],\n",
       "       [2844.22753389, 2014.        ],\n",
       "       [3761.99403819, 2019.        ]])"
      ]
     },
     "execution_count": 50,
     "metadata": {},
     "output_type": "execute_result"
    }
   ],
   "source": [
    "X = sel_asian_car.values\n",
    "X"
   ]
  },
  {
   "cell_type": "code",
   "execution_count": 53,
   "id": "5649660c",
   "metadata": {},
   "outputs": [
    {
     "data": {
      "text/plain": [
       "array([[62248334.33150762, 41431216.50732678],\n",
       "       [41431216.50732678, 28373339.        ]])"
      ]
     },
     "execution_count": 53,
     "metadata": {},
     "output_type": "execute_result"
    }
   ],
   "source": [
    "XTX = X.T.dot(X)\n",
    "XTX"
   ]
  },
  {
   "cell_type": "code",
   "execution_count": 56,
   "id": "f73e478e",
   "metadata": {},
   "outputs": [
    {
     "data": {
      "text/plain": [
       "array([[ 5.71497081e-07, -8.34509443e-07],\n",
       "       [-8.34509443e-07,  1.25380877e-06]])"
      ]
     },
     "execution_count": 56,
     "metadata": {},
     "output_type": "execute_result"
    }
   ],
   "source": [
    "XTX_inv = np.linalg.inv(XTX)\n",
    "XTX_inv"
   ]
  },
  {
   "cell_type": "code",
   "execution_count": 58,
   "id": "b4ef8675",
   "metadata": {},
   "outputs": [
    {
     "data": {
      "text/plain": [
       "array([0.01386421, 0.5049067 ])"
      ]
     },
     "execution_count": 58,
     "metadata": {},
     "output_type": "execute_result"
    }
   ],
   "source": [
    "y = np.array([1100, 1300, 800, 900, 1000, 1100, 1200])\n",
    "w = XTX_inv.dot(X.T).dot(y)\n",
    "w"
   ]
  },
  {
   "cell_type": "code",
   "execution_count": 59,
   "id": "fa066e7b",
   "metadata": {},
   "outputs": [
    {
     "data": {
      "text/plain": [
       "0.5187709081074007"
      ]
     },
     "execution_count": 59,
     "metadata": {},
     "output_type": "execute_result"
    }
   ],
   "source": [
    "w.sum()"
   ]
  }
 ],
 "metadata": {
  "kernelspec": {
   "display_name": "datascience",
   "language": "python",
   "name": "python3"
  },
  "language_info": {
   "codemirror_mode": {
    "name": "ipython",
    "version": 3
   },
   "file_extension": ".py",
   "mimetype": "text/x-python",
   "name": "python",
   "nbconvert_exporter": "python",
   "pygments_lexer": "ipython3",
   "version": "3.12.7"
  }
 },
 "nbformat": 4,
 "nbformat_minor": 5
}
