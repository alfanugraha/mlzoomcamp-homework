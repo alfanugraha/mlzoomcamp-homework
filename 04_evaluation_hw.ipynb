{
  "cells": [
    {
      "cell_type": "markdown",
      "metadata": {
        "colab_type": "text",
        "id": "view-in-github"
      },
      "source": [
        "<a href=\"https://colab.research.google.com/github/alfanugraha/mlzoomcamp-homework/blob/master/03_classification_hw.ipynb\" target=\"_parent\"><img src=\"https://colab.research.google.com/assets/colab-badge.svg\" alt=\"Open In Colab\"/></a>"
      ]
    },
    {
      "cell_type": "code",
      "execution_count": 1,
      "id": "a3496872",
      "metadata": {
        "id": "a3496872"
      },
      "outputs": [],
      "source": [
        "import pandas as pd\n",
        "import numpy as np\n",
        "\n",
        "import matplotlib.pyplot as plt\n",
        "import seaborn as sns\n",
        "\n",
        "%matplotlib inline"
      ]
    },
    {
      "cell_type": "code",
      "execution_count": 2,
      "id": "37d37161",
      "metadata": {
        "id": "37d37161"
      },
      "outputs": [],
      "source": [
        "from sklearn.model_selection import train_test_split\n",
        "from sklearn.metrics import mutual_info_score\n",
        "\n",
        "from sklearn.feature_extraction import DictVectorizer\n",
        "from sklearn.linear_model import LogisticRegression\n",
        "from sklearn.metrics import  roc_auc_score, auc\n",
        "from sklearn.model_selection import KFold"
      ]
    },
    {
      "cell_type": "markdown",
      "id": "241f3651",
      "metadata": {
        "id": "241f3651"
      },
      "source": [
        "## Data Preparation"
      ]
    },
    {
      "cell_type": "markdown",
      "id": "75015722",
      "metadata": {
        "id": "75015722"
      },
      "source": [
        "We will use the lead scoring Bank Marketing dataset https://raw.githubusercontent.com/alexeygrigorev/datasets/master/course_lead_scoring.csv"
      ]
    },
    {
      "cell_type": "code",
      "execution_count": 3,
      "id": "733dec30",
      "metadata": {
        "id": "733dec30",
        "outputId": "e9c8af4e-47d0-44c6-e81b-536200ccf80b"
      },
      "outputs": [
        {
          "data": {
            "application/vnd.microsoft.datawrangler.viewer.v0+json": {
              "columns": [
                {
                  "name": "index",
                  "rawType": "int64",
                  "type": "integer"
                },
                {
                  "name": "lead_source",
                  "rawType": "object",
                  "type": "string"
                },
                {
                  "name": "industry",
                  "rawType": "object",
                  "type": "unknown"
                },
                {
                  "name": "number_of_courses_viewed",
                  "rawType": "int64",
                  "type": "integer"
                },
                {
                  "name": "annual_income",
                  "rawType": "float64",
                  "type": "float"
                },
                {
                  "name": "employment_status",
                  "rawType": "object",
                  "type": "unknown"
                },
                {
                  "name": "location",
                  "rawType": "object",
                  "type": "string"
                },
                {
                  "name": "interaction_count",
                  "rawType": "int64",
                  "type": "integer"
                },
                {
                  "name": "lead_score",
                  "rawType": "float64",
                  "type": "float"
                },
                {
                  "name": "converted",
                  "rawType": "int64",
                  "type": "integer"
                }
              ],
              "ref": "6c18ad0c-796b-4dcd-9939-87cec9ee21dc",
              "rows": [
                [
                  "0",
                  "paid_ads",
                  null,
                  "1",
                  "79450.0",
                  "unemployed",
                  "south_america",
                  "4",
                  "0.94",
                  "1"
                ],
                [
                  "1",
                  "social_media",
                  "retail",
                  "1",
                  "46992.0",
                  "employed",
                  "south_america",
                  "1",
                  "0.8",
                  "0"
                ],
                [
                  "2",
                  "events",
                  "healthcare",
                  "5",
                  "78796.0",
                  "unemployed",
                  "australia",
                  "3",
                  "0.69",
                  "1"
                ],
                [
                  "3",
                  "paid_ads",
                  "retail",
                  "2",
                  "83843.0",
                  null,
                  "australia",
                  "1",
                  "0.87",
                  "0"
                ],
                [
                  "4",
                  "referral",
                  "education",
                  "3",
                  "85012.0",
                  "self_employed",
                  "europe",
                  "3",
                  "0.62",
                  "1"
                ]
              ],
              "shape": {
                "columns": 9,
                "rows": 5
              }
            },
            "text/html": [
              "<div>\n",
              "<style scoped>\n",
              "    .dataframe tbody tr th:only-of-type {\n",
              "        vertical-align: middle;\n",
              "    }\n",
              "\n",
              "    .dataframe tbody tr th {\n",
              "        vertical-align: top;\n",
              "    }\n",
              "\n",
              "    .dataframe thead th {\n",
              "        text-align: right;\n",
              "    }\n",
              "</style>\n",
              "<table border=\"1\" class=\"dataframe\">\n",
              "  <thead>\n",
              "    <tr style=\"text-align: right;\">\n",
              "      <th></th>\n",
              "      <th>lead_source</th>\n",
              "      <th>industry</th>\n",
              "      <th>number_of_courses_viewed</th>\n",
              "      <th>annual_income</th>\n",
              "      <th>employment_status</th>\n",
              "      <th>location</th>\n",
              "      <th>interaction_count</th>\n",
              "      <th>lead_score</th>\n",
              "      <th>converted</th>\n",
              "    </tr>\n",
              "  </thead>\n",
              "  <tbody>\n",
              "    <tr>\n",
              "      <th>0</th>\n",
              "      <td>paid_ads</td>\n",
              "      <td>NaN</td>\n",
              "      <td>1</td>\n",
              "      <td>79450.0</td>\n",
              "      <td>unemployed</td>\n",
              "      <td>south_america</td>\n",
              "      <td>4</td>\n",
              "      <td>0.94</td>\n",
              "      <td>1</td>\n",
              "    </tr>\n",
              "    <tr>\n",
              "      <th>1</th>\n",
              "      <td>social_media</td>\n",
              "      <td>retail</td>\n",
              "      <td>1</td>\n",
              "      <td>46992.0</td>\n",
              "      <td>employed</td>\n",
              "      <td>south_america</td>\n",
              "      <td>1</td>\n",
              "      <td>0.80</td>\n",
              "      <td>0</td>\n",
              "    </tr>\n",
              "    <tr>\n",
              "      <th>2</th>\n",
              "      <td>events</td>\n",
              "      <td>healthcare</td>\n",
              "      <td>5</td>\n",
              "      <td>78796.0</td>\n",
              "      <td>unemployed</td>\n",
              "      <td>australia</td>\n",
              "      <td>3</td>\n",
              "      <td>0.69</td>\n",
              "      <td>1</td>\n",
              "    </tr>\n",
              "    <tr>\n",
              "      <th>3</th>\n",
              "      <td>paid_ads</td>\n",
              "      <td>retail</td>\n",
              "      <td>2</td>\n",
              "      <td>83843.0</td>\n",
              "      <td>NaN</td>\n",
              "      <td>australia</td>\n",
              "      <td>1</td>\n",
              "      <td>0.87</td>\n",
              "      <td>0</td>\n",
              "    </tr>\n",
              "    <tr>\n",
              "      <th>4</th>\n",
              "      <td>referral</td>\n",
              "      <td>education</td>\n",
              "      <td>3</td>\n",
              "      <td>85012.0</td>\n",
              "      <td>self_employed</td>\n",
              "      <td>europe</td>\n",
              "      <td>3</td>\n",
              "      <td>0.62</td>\n",
              "      <td>1</td>\n",
              "    </tr>\n",
              "  </tbody>\n",
              "</table>\n",
              "</div>"
            ],
            "text/plain": [
              "    lead_source    industry  number_of_courses_viewed  annual_income  \\\n",
              "0      paid_ads         NaN                         1        79450.0   \n",
              "1  social_media      retail                         1        46992.0   \n",
              "2        events  healthcare                         5        78796.0   \n",
              "3      paid_ads      retail                         2        83843.0   \n",
              "4      referral   education                         3        85012.0   \n",
              "\n",
              "  employment_status       location  interaction_count  lead_score  converted  \n",
              "0        unemployed  south_america                  4        0.94          1  \n",
              "1          employed  south_america                  1        0.80          0  \n",
              "2        unemployed      australia                  3        0.69          1  \n",
              "3               NaN      australia                  1        0.87          0  \n",
              "4     self_employed         europe                  3        0.62          1  "
            ]
          },
          "execution_count": 3,
          "metadata": {},
          "output_type": "execute_result"
        }
      ],
      "source": [
        "df = pd.read_csv(\"https://raw.githubusercontent.com/alexeygrigorev/datasets/master/course_lead_scoring.csv\")\n",
        "df.head()"
      ]
    },
    {
      "cell_type": "code",
      "execution_count": null,
      "id": "a14f99ce",
      "metadata": {},
      "outputs": [
        {
          "data": {
            "text/plain": [
              "Index(['lead_source', 'industry', 'number_of_courses_viewed', 'annual_income',\n",
              "       'employment_status', 'location', 'interaction_count', 'lead_score',\n",
              "       'converted'],\n",
              "      dtype='object')"
            ]
          },
          "execution_count": 4,
          "metadata": {},
          "output_type": "execute_result"
        }
      ],
      "source": [
        "df.columns = df.columns.str.lower().str.replace(' ', '_')\n",
        "categorical_columns = list(df.dtypes[df.dtypes == 'object'].index)\n",
        "numeric_columns = [c for c in df.columns if pd.api.types.is_numeric_dtype(df[c])]\n",
        "\n",
        "for col in categorical_columns:\n",
        "    df[col] = df[col].str.lower().str.replace(' ', '_')\n",
        "\n",
        "df.columns"
      ]
    },
    {
      "cell_type": "code",
      "execution_count": 5,
      "id": "bc2fd787",
      "metadata": {
        "id": "bc2fd787",
        "outputId": "d78365aa-4af5-4e16-83d5-2ba8fe5c5ae5"
      },
      "outputs": [
        {
          "data": {
            "application/vnd.microsoft.datawrangler.viewer.v0+json": {
              "columns": [
                {
                  "name": "index",
                  "rawType": "object",
                  "type": "string"
                },
                {
                  "name": "0",
                  "rawType": "int64",
                  "type": "integer"
                }
              ],
              "ref": "63651e21-f92b-437d-8f56-de0b45920cd4",
              "rows": [
                [
                  "lead_source",
                  "128"
                ],
                [
                  "industry",
                  "134"
                ],
                [
                  "number_of_courses_viewed",
                  "0"
                ],
                [
                  "annual_income",
                  "181"
                ],
                [
                  "employment_status",
                  "100"
                ],
                [
                  "location",
                  "63"
                ],
                [
                  "interaction_count",
                  "0"
                ],
                [
                  "lead_score",
                  "0"
                ],
                [
                  "converted",
                  "0"
                ]
              ],
              "shape": {
                "columns": 1,
                "rows": 9
              }
            },
            "text/plain": [
              "lead_source                 128\n",
              "industry                    134\n",
              "number_of_courses_viewed      0\n",
              "annual_income               181\n",
              "employment_status           100\n",
              "location                     63\n",
              "interaction_count             0\n",
              "lead_score                    0\n",
              "converted                     0\n",
              "dtype: int64"
            ]
          },
          "execution_count": 5,
          "metadata": {},
          "output_type": "execute_result"
        }
      ],
      "source": [
        "df.isnull().sum()"
      ]
    },
    {
      "cell_type": "markdown",
      "id": "9c1d6cab",
      "metadata": {
        "id": "9c1d6cab"
      },
      "source": [
        "There are 5 columns with missing values:\n",
        "- `lead_source` as object\n",
        "- `industry` as object\n",
        "- `annual_income` as numeric\n",
        "- `employment_status` as object\n",
        "- `location` as object\n",
        "\n",
        "For categorical features, I replace them with `NA`, and for numerical features I replace it with with `0.0`"
      ]
    },
    {
      "cell_type": "code",
      "execution_count": 6,
      "id": "d9a9cdd0",
      "metadata": {
        "id": "d9a9cdd0",
        "outputId": "a573df04-31bf-4d88-f16e-3d92ad3d6807"
      },
      "outputs": [
        {
          "data": {
            "application/vnd.microsoft.datawrangler.viewer.v0+json": {
              "columns": [
                {
                  "name": "index",
                  "rawType": "object",
                  "type": "string"
                },
                {
                  "name": "0",
                  "rawType": "int64",
                  "type": "integer"
                }
              ],
              "ref": "7f55dd16-1961-4d46-b753-6b736f085ff6",
              "rows": [
                [
                  "lead_source",
                  "0"
                ],
                [
                  "industry",
                  "0"
                ],
                [
                  "number_of_courses_viewed",
                  "0"
                ],
                [
                  "annual_income",
                  "0"
                ],
                [
                  "employment_status",
                  "0"
                ],
                [
                  "location",
                  "0"
                ],
                [
                  "interaction_count",
                  "0"
                ],
                [
                  "lead_score",
                  "0"
                ],
                [
                  "converted",
                  "0"
                ]
              ],
              "shape": {
                "columns": 1,
                "rows": 9
              }
            },
            "text/plain": [
              "lead_source                 0\n",
              "industry                    0\n",
              "number_of_courses_viewed    0\n",
              "annual_income               0\n",
              "employment_status           0\n",
              "location                    0\n",
              "interaction_count           0\n",
              "lead_score                  0\n",
              "converted                   0\n",
              "dtype: int64"
            ]
          },
          "execution_count": 6,
          "metadata": {},
          "output_type": "execute_result"
        }
      ],
      "source": [
        "for col in categorical_columns:\n",
        "    df[col] = df[col].fillna(\"NA\")\n",
        "\n",
        "for col in numeric_columns:\n",
        "    df[col] = df[col].fillna(0.0)\n",
        "\n",
        "df.isnull().sum()"
      ]
    },
    {
      "cell_type": "code",
      "execution_count": 7,
      "id": "59f524d4",
      "metadata": {},
      "outputs": [
        {
          "name": "stdout",
          "output_type": "stream",
          "text": [
            "Train: 877 (60%)\n",
            "Val: 292 (20%)\n",
            "Test: 293 (20%)\n"
          ]
        }
      ],
      "source": [
        "y = df['converted']\n",
        "X = df.drop('converted', axis=1)\n",
        "\n",
        "X_train, X_temp, y_train, y_temp = train_test_split(X, y, test_size=0.4, random_state=1)\n",
        "X_val, X_test, y_val, y_test = train_test_split(X_temp, y_temp, test_size=0.5, random_state=1)\n",
        "\n",
        "print(f\"Train: {len(X_train)} ({len(X_train)/len(df)*100:.0f}%)\")\n",
        "print(f\"Val: {len(X_val)} ({len(X_val)/len(df)*100:.0f}%)\")\n",
        "print(f\"Test: {len(X_test)} ({len(X_test)/len(df)*100:.0f}%)\")"
      ]
    },
    {
      "cell_type": "markdown",
      "id": "218f09fc",
      "metadata": {
        "id": "218f09fc"
      },
      "source": [
        "## Q1. ROC AUC feature importance"
      ]
    },
    {
      "cell_type": "code",
      "execution_count": 8,
      "id": "99efa22d",
      "metadata": {
        "id": "99efa22d",
        "outputId": "ed34620e-891f-464f-e339-4791dac47a7a"
      },
      "outputs": [
        {
          "name": "stdout",
          "output_type": "stream",
          "text": [
            "lead_score: 0.6111\n",
            "number_of_courses_viewed: 0.7652\n",
            "interaction_count: 0.7272\n",
            "annual_income: 0.5446\n",
            "Highest AUC: number_of_courses_viewed (0.7652)\n"
          ]
        }
      ],
      "source": [
        "variables_to_test = ['lead_score', 'number_of_courses_viewed', 'interaction_count', 'annual_income']\n",
        "auc_scores = {}\n",
        "\n",
        "for var in variables_to_test:\n",
        "    predictions = X_train[var]\n",
        "    auc = roc_auc_score(y_train, predictions)\n",
        "\n",
        "    if auc < 0.5:\n",
        "        predictions = -X_train[var]\n",
        "        auc = roc_auc_score(y_train, predictions)\n",
        "\n",
        "    auc_scores[var] = auc\n",
        "    print(f\"{var}: {auc:.4f}\")\n",
        "\n",
        "best_var = max(auc_scores, key=auc_scores.get)\n",
        "print(f\"Highest AUC: {best_var} ({auc_scores[best_var]:.4f})\")"
      ]
    },
    {
      "cell_type": "markdown",
      "id": "83b69516",
      "metadata": {
        "id": "83b69516"
      },
      "source": [
        "## Q2. Training the model"
      ]
    },
    {
      "cell_type": "code",
      "execution_count": 9,
      "id": "64f749a5",
      "metadata": {
        "id": "64f749a5",
        "outputId": "cc477648-3bf5-4119-9858-c18a221042cb"
      },
      "outputs": [
        {
          "name": "stdout",
          "output_type": "stream",
          "text": [
            "AUC on validation dataset: 0.691\n"
          ]
        }
      ],
      "source": [
        "train_dicts = X_train.to_dict(orient='records')\n",
        "val_dicts = X_val.to_dict(orient='records')\n",
        "\n",
        "dv = DictVectorizer(sparse=False)\n",
        "X_train_encoded = dv.fit_transform(train_dicts)\n",
        "X_val_encoded = dv.transform(val_dicts)\n",
        "\n",
        "model = LogisticRegression(solver='liblinear', C=1.0, max_iter=1000)\n",
        "model.fit(X_train_encoded, y_train)\n",
        "\n",
        "y_val_pred = model.predict_proba(X_val_encoded)[:, 1]\n",
        "\n",
        "auc = roc_auc_score(y_val, y_val_pred >= 0.5)\n",
        "print(f\"AUC on validation dataset: {round(auc, 3)}\")"
      ]
    },
    {
      "cell_type": "markdown",
      "id": "cc95342a",
      "metadata": {
        "id": "cc95342a"
      },
      "source": [
        "## Q3. Precision and Recall"
      ]
    },
    {
      "cell_type": "code",
      "execution_count": 11,
      "id": "d72ac751",
      "metadata": {
        "id": "d72ac751",
        "outputId": "e0f41ab0-572f-4f94-98db-2e7e96e087e9"
      },
      "outputs": [
        {
          "data": {
            "image/png": "[encoded data removed]",
            "text/plain": [
              "<Figure size 640x480 with 1 Axes>"
            ]
          },
          "metadata": {},
          "output_type": "display_data"
        }
      ],
      "source": [
        "scores = []\n",
        "\n",
        "thresholds = np.arange(0.0, 1.01, 0.01)\n",
        "\n",
        "for t in thresholds:\n",
        "    actual_positive = (y_val == 1)\n",
        "    actual_negative = (y_val == 0)\n",
        "\n",
        "    predict_positive = (y_val_pred >= t)\n",
        "    predict_negative = (y_val_pred < t)\n",
        "\n",
        "    TP = (predict_positive & actual_positive).sum()\n",
        "    TN = (predict_negative & actual_negative).sum()\n",
        "\n",
        "    FP = (predict_positive & actual_negative).sum()\n",
        "    FN = (predict_negative & actual_positive).sum()\n",
        "\n",
        "    if TP + FP > 0:\n",
        "        precision = TP / (TP + FP)\n",
        "    else:\n",
        "        precision = 0.0\n",
        "\n",
        "    if TP + FN > 0:\n",
        "        recall = TP / (TP + FN)\n",
        "    else:\n",
        "        recall = 0.0\n",
        "\n",
        "    scores.append([t, precision, recall])\n",
        "\n",
        "df_scores = pd.DataFrame(data=scores, columns=[\"threshold\", \"precision\", \"recall\"])\n",
        "\n",
        "plt.plot(df_scores.threshold, df_scores.precision, label='Precision')\n",
        "plt.plot(df_scores.threshold, df_scores.recall, label='Recall')\n",
        "plt.xlabel('Threshold')\n",
        "plt.ylabel('Score')\n",
        "plt.legend()\n",
        "plt.grid()"
      ]
    },
    {
      "cell_type": "code",
      "execution_count": 12,
      "id": "63da8dd3",
      "metadata": {},
      "outputs": [
        {
          "name": "stdout",
          "output_type": "stream",
          "text": [
            "Precision and recall intersect at threshold: 0.590\n",
            "Precision: 0.807\n",
            "Recall: 0.807\n"
          ]
        }
      ],
      "source": [
        "precisions = df_scores.precision\n",
        "recalls = df_scores.recall\n",
        "\n",
        "differences = np.abs(precisions - recalls)\n",
        "intersection_idx = np.argmin(differences)\n",
        "intersection_threshold = thresholds[intersection_idx]\n",
        "\n",
        "print(f\"Precision and recall intersect at threshold: {intersection_threshold:.3f}\")\n",
        "print(f\"Precision: {precisions[intersection_idx]:.3f}\")\n",
        "print(f\"Recall: {recalls[intersection_idx]:.3f}\")"
      ]
    },
    {
      "cell_type": "markdown",
      "id": "d2fd6808",
      "metadata": {
        "id": "d2fd6808"
      },
      "source": [
        "## Q4. F1 score"
      ]
    },
    {
      "cell_type": "code",
      "execution_count": 13,
      "id": "6bee91f9",
      "metadata": {
        "id": "6bee91f9",
        "outputId": "f417546d-8390-4f5f-9cca-5823412fd1b9"
      },
      "outputs": [
        {
          "name": "stdout",
          "output_type": "stream",
          "text": [
            "    threshold  precision    recall        f1\n",
            "47       0.47   0.767932  0.947917  0.848485\n"
          ]
        },
        {
          "data": {
            "text/plain": [
              "<matplotlib.lines.Line2D at 0x240d8c24e60>"
            ]
          },
          "execution_count": 13,
          "metadata": {},
          "output_type": "execute_result"
        },
        {
          "data": {
            "image/png": "[encoded data removed]",
            "text/plain": [
              "<Figure size 640x480 with 1 Axes>"
            ]
          },
          "metadata": {},
          "output_type": "display_data"
        }
      ],
      "source": [
        "df_scores[\"f1\"] = 2*(df_scores.precision * df_scores.recall) / (df_scores.precision + df_scores.recall)\n",
        "max_score_row = df_scores[df_scores.f1 == df_scores.f1.max()]\n",
        "print(max_score_row)\n",
        "\n",
        "plt.plot(df_scores.threshold, df_scores.f1, label='F1')\n",
        "plt.xlabel('Threshold')\n",
        "plt.ylabel('F1 Score')\n",
        "plt.axvline(x=float(max_score_row.iloc[0].threshold), color='r', linestyle='--')"
      ]
    },
    {
      "cell_type": "markdown",
      "id": "57011ef0",
      "metadata": {
        "id": "57011ef0"
      },
      "source": [
        "## Q5. 5-Fold cross-validation"
      ]
    },
    {
      "cell_type": "code",
      "execution_count": 14,
      "id": "31f2461a",
      "metadata": {
        "id": "31f2461a",
        "outputId": "8e26f2c8-676c-48a7-e031-df3edbccd705"
      },
      "outputs": [
        {
          "name": "stdout",
          "output_type": "stream",
          "text": [
            "X_train_full shape: (1169, 31)\n",
            "y_train_full shape: (1169,)\n",
            "Fold 1: AUC = 0.8067\n",
            "Fold 2: AUC = 0.8068\n",
            "Fold 3: AUC = 0.8648\n",
            "Fold 4: AUC = 0.8334\n",
            "Fold 5: AUC = 0.8154\n",
            "Mean AUC: 0.8254 +- 0.0220\n"
          ]
        }
      ],
      "source": [
        "X_train_full = np.concatenate([X_train_encoded, X_val_encoded], axis=0)\n",
        "y_train_full = np.concatenate([y_train, y_val], axis=0)\n",
        "\n",
        "print(f\"X_train_full shape: {X_train_full.shape}\")\n",
        "print(f\"y_train_full shape: {y_train_full.shape}\")\n",
        "\n",
        "kfold = KFold(n_splits=5, shuffle=True, random_state=1)\n",
        "\n",
        "auc_scores = []\n",
        "\n",
        "for fold, (train_idx, val_idx) in enumerate(kfold.split(X_train_full), 1):\n",
        "    X_fold_train = X_train_full[train_idx]\n",
        "    X_fold_val = X_train_full[val_idx]\n",
        "    \n",
        "    y_fold_train = y_train_full[train_idx]\n",
        "    y_fold_val = y_train_full[val_idx]\n",
        "    \n",
        "    model_fold = LogisticRegression(solver='liblinear', C=1.0, max_iter=1000)\n",
        "    model_fold.fit(X_fold_train, y_fold_train)\n",
        "    \n",
        "    y_fold_pred = model_fold.predict_proba(X_fold_val)[:, 1]\n",
        "    auc_fold = roc_auc_score(y_fold_val, y_fold_pred)\n",
        "    auc_scores.append(auc_fold)\n",
        "    \n",
        "    print(f\"Fold {fold}: AUC = {auc_fold:.4f}\")\n",
        "\n",
        "# Calculate statistics\n",
        "auc_scores = np.array(auc_scores)\n",
        "mean_auc = auc_scores.mean()\n",
        "std_auc = auc_scores.std()\n",
        "\n",
        "print(f\"Mean AUC: {mean_auc:.4f} +- {std_auc:.4f}\")"
      ]
    },
    {
      "cell_type": "markdown",
      "id": "e43ada95",
      "metadata": {
        "id": "e43ada95"
      },
      "source": [
        "## Q6. Hyperparameter tuning"
      ]
    },
    {
      "cell_type": "code",
      "execution_count": 15,
      "id": "5d7d939c",
      "metadata": {
        "id": "5d7d939c",
        "outputId": "31264ae8-23a8-4371-dfac-a1db775f7291"
      },
      "outputs": [
        {
          "name": "stdout",
          "output_type": "stream",
          "text": [
            "Testing C = 1e-06\n",
            "C = 1e-06: mean AUC = 0.543, std = 0.025\n",
            "Testing C = 0.001\n",
            "C = 0.001: mean AUC = 0.864, std = 0.014\n",
            "Testing C = 1\n",
            "C = 1: mean AUC = 0.825, std = 0.022\n",
            "C =    1e-06: mean = 0.543, std = 0.025\n",
            "C =    0.001: mean = 0.864, std = 0.014\n",
            "C =        1: mean = 0.825, std = 0.022\n",
            "Best C: 0.001 (mean = 0.864, std = 0.014)\n"
          ]
        }
      ],
      "source": [
        "C_values = [0.000001, 0.001, 1]\n",
        "\n",
        "kfold = KFold(n_splits=5, shuffle=True, random_state=1)\n",
        "\n",
        "results = {}\n",
        "\n",
        "for C in C_values:\n",
        "    print(f\"Testing C = {C}\")\n",
        "    auc_scores = []\n",
        "\n",
        "    for fold, (train_idx, val_idx) in enumerate(kfold.split(X_train_full), 1):\n",
        "        X_fold_train = X_train_full[train_idx]\n",
        "        X_fold_val = X_train_full[val_idx]\n",
        "        \n",
        "        y_fold_train = y_train_full[train_idx]\n",
        "        y_fold_val = y_train_full[val_idx]\n",
        "        \n",
        "        model_fold = LogisticRegression(solver='liblinear', C=C, max_iter=1000)\n",
        "        model_fold.fit(X_fold_train, y_fold_train)\n",
        "        \n",
        "        y_fold_pred = model_fold.predict_proba(X_fold_val)[:, 1]\n",
        "        auc_fold = roc_auc_score(y_fold_val, y_fold_pred)\n",
        "        auc_scores.append(auc_fold)\n",
        "    \n",
        "    auc_scores = np.array(auc_scores)\n",
        "    mean_auc = round(auc_scores.mean(), 3)\n",
        "    std_auc = round(auc_scores.std(), 3)\n",
        "    \n",
        "    results[C] = {'mean': mean_auc, 'std': std_auc}\n",
        "    print(f\"C = {C}: mean AUC = {mean_auc}, std = {std_auc}\")\n",
        "\n",
        "for C in C_values:\n",
        "    print(f\"C = {C:>8}: mean = {results[C]['mean']:.3f}, std = {results[C]['std']:.3f}\")\n",
        "\n",
        "best_mean = max(r['mean'] for r in results.values())\n",
        "candidates = [C for C in C_values if results[C]['mean'] == best_mean]\n",
        "best_C = min(candidates)\n",
        "\n",
        "print(f\"Best C: {best_C} (mean = {results[best_C]['mean']:.3f}, std = {results[best_C]['std']:.3f})\")"
      ]
    }
  ],
  "metadata": {
    "colab": {
      "include_colab_link": true,
      "provenance": []
    },
    "kernelspec": {
      "display_name": "datascience",
      "language": "python",
      "name": "python3"
    },
    "language_info": {
      "codemirror_mode": {
        "name": "ipython",
        "version": 3
      },
      "file_extension": ".py",
      "mimetype": "text/x-python",
      "name": "python",
      "nbconvert_exporter": "python",
      "pygments_lexer": "ipython3",
      "version": "3.12.7"
    }
  },
  "nbformat": 4,
  "nbformat_minor": 5
}
